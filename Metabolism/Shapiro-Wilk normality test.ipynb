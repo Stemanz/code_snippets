{
 "cells": [
  {
   "cell_type": "markdown",
   "metadata": {},
   "source": [
    "# Shapiro-Wilk normality test"
   ]
  },
  {
   "cell_type": "code",
   "execution_count": 1,
   "metadata": {},
   "outputs": [],
   "source": [
    "from scipy.stats import shapiro\n",
    "from tqdm.notebook import tqdm, trange\n",
    "from random import gauss, randint, choice, randrange, uniform"
   ]
  },
  {
   "cell_type": "markdown",
   "metadata": {},
   "source": [
    "Non real-world example of Shapiro-Wilk test: perfect picks from a Gaussian distributions."
   ]
  },
  {
   "cell_type": "code",
   "execution_count": 2,
   "metadata": {},
   "outputs": [
    {
     "data": {
      "application/vnd.jupyter.widget-view+json": {
       "model_id": "c6009e9cf58c4cf7a95118defe91ff16",
       "version_major": 2,
       "version_minor": 0
      },
      "text/plain": [
       "HBox(children=(FloatProgress(value=0.0, max=10000.0), HTML(value='')))"
      ]
     },
     "metadata": {},
     "output_type": "display_data"
    },
    {
     "name": "stdout",
     "output_type": "stream",
     "text": [
      "\n",
      "This test has given a WRONG answer in the 4.82% of cases\n"
     ]
    }
   ],
   "source": [
    "alpha = 0.05\n",
    "tries = 10_000\n",
    "\n",
    "n = 166\n",
    "average = 35.34181107\n",
    "sd = 6.867662223  \n",
    "\n",
    "fail = 0\n",
    "for i in trange(tries):\n",
    "    data = [gauss(average, sd) for _ in range(n)]\n",
    "    stat, p = shapiro(data)\n",
    "    if p < 0.05:\n",
    "        fail +=1\n",
    "        \n",
    "print(f\"This test has given a WRONG answer in the {round(fail*100/tries, 2)}% of cases\")"
   ]
  },
  {
   "cell_type": "markdown",
   "metadata": {},
   "source": [
    "As expected, the accepted Type I error rate closely matches the threshold we set at ~5%, for numbers picked out of a clean math distribution.\n",
    "\n",
    "In real world, outcomes can be influenced by a moltitude of other factors: animal behaviour, eating, social interactions. To be fair, let's try to jitter each value randomly by a randomly assigned score of the same order of the SD for each individual experiments (that's around 20% of the average)."
   ]
  },
  {
   "cell_type": "code",
   "execution_count": 3,
   "metadata": {},
   "outputs": [
    {
     "data": {
      "application/vnd.jupyter.widget-view+json": {
       "model_id": "2e10ff16b141481aa4e3812bc1a5949a",
       "version_major": 2,
       "version_minor": 0
      },
      "text/plain": [
       "HBox(children=(FloatProgress(value=0.0, max=10000.0), HTML(value='')))"
      ]
     },
     "metadata": {},
     "output_type": "display_data"
    },
    {
     "name": "stdout",
     "output_type": "stream",
     "text": [
      "\n",
      "This test has given a WRONG answer in the 46.02% of cases\n"
     ]
    }
   ],
   "source": [
    "alpha = 0.05\n",
    "tries = 10_000\n",
    "\n",
    "n = 166\n",
    "average = 35.34181107\n",
    "sd = 6.867662223\n",
    "\n",
    "def jitter(numlike, amount=0.2):\n",
    "    \n",
    "    # 50% chance to flip sign\n",
    "    modifier = numlike if choice([True, False]) else numlike * -1\n",
    "        \n",
    "    return numlike + modifier * (gauss(0, amount))\n",
    "    \n",
    "\n",
    "fail = 0\n",
    "for i in trange(tries):\n",
    "    data = [jitter(gauss(average, sd)) for _ in range(n)]\n",
    "    stat, p = shapiro(data)\n",
    "    if p < 0.05:\n",
    "        fail +=1\n",
    "        \n",
    "print(f\"This test has given a WRONG answer in the {round(fail*100/tries, 2)}% of cases\")"
   ]
  },
  {
   "cell_type": "code",
   "execution_count": 4,
   "metadata": {},
   "outputs": [
    {
     "data": {
      "application/vnd.jupyter.widget-view+json": {
       "model_id": "1dddfe1b620e497a82fabb853a20b43e",
       "version_major": 2,
       "version_minor": 0
      },
      "text/plain": [
       "HBox(children=(FloatProgress(value=0.0, max=10000.0), HTML(value='')))"
      ]
     },
     "metadata": {},
     "output_type": "display_data"
    },
    {
     "name": "stdout",
     "output_type": "stream",
     "text": [
      "\n",
      "This test has given a WRONG answer in the 16.84% of cases\n"
     ]
    }
   ],
   "source": [
    "alpha = 0.05\n",
    "tries = 10_000\n",
    "\n",
    "n = 166\n",
    "average = 35.34181107\n",
    "sd = 6.867662223\n",
    "\n",
    "def jitter(numlike, amount=0.1):\n",
    "    \n",
    "    # 50% chance to flip sign\n",
    "    modifier = numlike if choice([True, False]) else numlike * -1\n",
    "        \n",
    "    return numlike + modifier * (gauss(0, amount))\n",
    "    \n",
    "\n",
    "fail = 0\n",
    "for i in trange(tries):\n",
    "    data = [jitter(gauss(average, sd)) for _ in range(n)]\n",
    "    stat, p = shapiro(data)\n",
    "    if p < 0.05:\n",
    "        fail +=1\n",
    "        \n",
    "print(f\"This test has given a WRONG answer in the {round(fail*100/tries, 2)}% of cases\")"
   ]
  },
  {
   "cell_type": "markdown",
   "metadata": {},
   "source": [
    "Even the smallest jitter around values (from an otherwise perfect Gaussian distrubition) can negate the correctness of the test results."
   ]
  },
  {
   "cell_type": "code",
   "execution_count": null,
   "metadata": {},
   "outputs": [],
   "source": []
  }
 ],
 "metadata": {
  "kernelspec": {
   "display_name": "Python 3",
   "language": "python",
   "name": "python3"
  },
  "language_info": {
   "codemirror_mode": {
    "name": "ipython",
    "version": 3
   },
   "file_extension": ".py",
   "mimetype": "text/x-python",
   "name": "python",
   "nbconvert_exporter": "python",
   "pygments_lexer": "ipython3",
   "version": "3.7.6"
  }
 },
 "nbformat": 4,
 "nbformat_minor": 4
}
