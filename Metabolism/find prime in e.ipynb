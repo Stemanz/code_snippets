{
 "cells": [
  {
   "cell_type": "code",
   "execution_count": 1,
   "metadata": {},
   "outputs": [],
   "source": [
    "from decimal import Decimal, getcontext\n",
    "from time import time"
   ]
  },
  {
   "cell_type": "code",
   "execution_count": 2,
   "metadata": {},
   "outputs": [],
   "source": [
    "def calculate_e(precision):\n",
    "    getcontext().prec = precision # tells Decimal to keep up to <precision> digits\n",
    "    \n",
    "    factorial = 1\n",
    "    e = 2\n",
    "    for i in range(2, precision):\n",
    "        factorial *= i\n",
    "        e += Decimal(\"1.0\") / Decimal(factorial)\n",
    "\n",
    "    return e"
   ]
  },
  {
   "cell_type": "code",
   "execution_count": 3,
   "metadata": {},
   "outputs": [],
   "source": [
    "def isprime(number):\n",
    "    # very sloppy prime number identifier\n",
    "    \n",
    "    assert isinstance(number, Decimal)\n",
    "    \n",
    "    # max number to check: number square root\n",
    "    MAX = number ** Decimal(\"0.5\")\n",
    "    \n",
    "    common_primes = [2, 3, 5, 7, 11, 13, 17, 19, 23]\n",
    "    \n",
    "    for prime in common_primes: # speeds things up\n",
    "        if number % prime == 0:\n",
    "            return False\n",
    "    else:\n",
    "        for div in range(29, int(MAX), 2):\n",
    "            if number % div == 0:\n",
    "                return False\n",
    "    return True"
   ]
  },
  {
   "cell_type": "code",
   "execution_count": 4,
   "metadata": {},
   "outputs": [],
   "source": [
    "def sliding_e(max_iterations = 1000, window=10):\n",
    "    start, stop = 0, window\n",
    "    \n",
    "    for i in range(max_iterations):\n",
    "        e  = calculate_e(stop * 2) # this raises the precision of e approximation\n",
    "        e_ = str(e)\n",
    "        e_ = e_[start+2:stop+2]\n",
    "        yield (e_, i)\n",
    "        \n",
    "        start += 1\n",
    "        stop  += 1  "
   ]
  },
  {
   "cell_type": "code",
   "execution_count": 5,
   "metadata": {},
   "outputs": [
    {
     "name": "stdout",
     "output_type": "stream",
     "text": [
      "Found! Prime: 7427466391, at index 98 in 0.16 seconds\n"
     ]
    }
   ],
   "source": [
    "# finally ready to do the actual stuff\n",
    "es = sliding_e()\n",
    "t0 = time()\n",
    "for e, index in es:\n",
    "    if e.startswith(\"0\"):\n",
    "        continue\n",
    "    \n",
    "    if isprime(Decimal(e)):\n",
    "        t1 = time()\n",
    "        print(f\"Found! Prime: {e}, at index {index} in {round(t1-t0, 2)} seconds\")\n",
    "        break"
   ]
  },
  {
   "cell_type": "code",
   "execution_count": null,
   "metadata": {},
   "outputs": [],
   "source": []
  }
 ],
 "metadata": {
  "kernelspec": {
   "display_name": "Python 3",
   "language": "python",
   "name": "python3"
  },
  "language_info": {
   "codemirror_mode": {
    "name": "ipython",
    "version": 3
   },
   "file_extension": ".py",
   "mimetype": "text/x-python",
   "name": "python",
   "nbconvert_exporter": "python",
   "pygments_lexer": "ipython3",
   "version": "3.7.6"
  }
 },
 "nbformat": 4,
 "nbformat_minor": 4
}
