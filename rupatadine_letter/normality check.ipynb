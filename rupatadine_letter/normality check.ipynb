{
 "cells": [
  {
   "cell_type": "code",
   "execution_count": 1,
   "id": "center-attachment",
   "metadata": {},
   "outputs": [],
   "source": [
    "from matplotlib import pyplot as plt\n",
    "%matplotlib inline\n",
    "import seaborn as sns\n",
    "import pandas as pd\n",
    "import numpy as np\n",
    "\n",
    "# for the normality test, we use this implementation of the Shapiro-Wilk test\n",
    "# https://docs.scipy.org/doc/scipy/reference/generated/scipy.stats.shapiro.html\n",
    "from scipy.stats import shapiro\n",
    "\n",
    "# we additionally perform a QQPlot of the residuals\n",
    "# https://pingouin-stats.org/generated/pingouin.qqplot.html\n",
    "import pingouin as pg"
   ]
  },
  {
   "cell_type": "code",
   "execution_count": 2,
   "id": "considered-saint",
   "metadata": {},
   "outputs": [],
   "source": [
    "# reading data\n",
    "df = pd.read_csv(\"all_params.tsv\", sep=\"\\t\", index_col=0)"
   ]
  },
  {
   "cell_type": "markdown",
   "id": "consistent-powder",
   "metadata": {},
   "source": [
    "# Normality test: Shapiro-Wilk\n",
    "We performed Shapiro-Wilk test on all parameters. Below the details of the analysis implementation and results."
   ]
  },
  {
   "cell_type": "code",
   "execution_count": 3,
   "id": "canadian-bloom",
   "metadata": {},
   "outputs": [
    {
     "name": "stdout",
     "output_type": "stream",
     "text": [
      "\n",
      "Normality analysis report\n",
      "============================================================\n",
      "\n",
      "CD3+ around aortic sinus: normally distributed\n",
      "CD3+ intraplaque: normally distributed\n",
      "Extracellular Matrix Area %: normally distributed\n",
      "Extracellular Matrix Area mm2: normally distributed\n",
      "Macrophage %: it appears *not* normal, with p=0.03\n",
      "Macrophage area: normally distributed\n",
      "Necrotic core %: normally distributed\n",
      "Necrotic core area: normally distributed\n",
      "abdominal percentage ENFACE: normally distributed\n",
      "aortic sinus area mm2_: normally distributed\n",
      "arch percentage ENFACE: normally distributed\n",
      "cell MASSON: normally distributed\n",
      "cell percent MASSON: normally distributed\n",
      "macrophage area: normally distributed\n",
      "macrophage percent: it appears *not* normal, with p=0.02\n",
      "macrophage percent MASSON: normally distributed\n",
      "matrix MASSON: normally distributed\n",
      "matrix percent MASSON: normally distributed\n",
      "necrotic core MASSON: normally distributed\n",
      "necrotic core percent MASSON: normally distributed\n",
      "neutral lipids area %_: it appears *not* normal, with p=0.01\n",
      "neutral lipids area mm2_: it appears *not* normal, with p=0.01\n",
      "plaque area HE: normally distributed\n",
      "plaque area MASSON: normally distributed\n",
      "plaque area aortic sinus mm2: normally distributed\n",
      "plaque area macrophages: normally distributed\n",
      "thoracic percentage ENFACE: it appears *not* normal, with p=0.0\n"
     ]
    }
   ],
   "source": [
    "# inspecting each parameter for normality.\n",
    "# we calculate group-wise residuals, then test them\n",
    "# for normality with Shapiro-Wilk\n",
    "\n",
    "residuals_book = {}\n",
    "failed = []\n",
    "\n",
    "print(\"\\nNormality analysis report\\n\", \"=\"*60, \"\\n\", sep=\"\")\n",
    "for elem in sorted(df.columns[1:]):\n",
    "    all_residuals = []\n",
    "    \n",
    "    for group in df[\"GROUP\"].unique():\n",
    "        tempdf = df[df[\"GROUP\"] == group]\n",
    "        values = np.array(tempdf[elem].dropna())\n",
    "        \n",
    "        ave = np.average(values)\n",
    "        residuals = values - ave\n",
    "        all_residuals.append(residuals)\n",
    "    \n",
    "    all_residuals = np.concatenate(all_residuals, axis=0)\n",
    "    \n",
    "    stat, pval = shapiro(all_residuals)\n",
    "    \n",
    "    if pval < 0.05:\n",
    "        print(f\"{elem}: it appears *not* normal, with p={round(pval, 2)}\")\n",
    "        failed.append(elem)\n",
    "    else:\n",
    "        print(f\"{elem}: normally distributed\")\n",
    "    \n",
    "    residuals_book.setdefault(elem, all_residuals)"
   ]
  },
  {
   "cell_type": "markdown",
   "id": "several-peeing",
   "metadata": {},
   "source": [
    "# QQplot\n",
    "Another way of assessing notmality is through the QQplot. Here's the plot for Plaque Area Aortic Sinus. Ideally, normally distributed values should lie in a line, and be within the intervals (red dotted line)."
   ]
  },
  {
   "cell_type": "code",
   "execution_count": 4,
   "id": "controlling-kentucky",
   "metadata": {},
   "outputs": [
    {
     "data": {
      "text/plain": [
       "Text(0.5, 1.0, 'plaque area aortic sinus mm2')"
      ]
     },
     "execution_count": 4,
     "metadata": {},
     "output_type": "execute_result"
    },
    {
     "data": {
      "image/png": "[encoded data removed]",
      "text/plain": [
       "<Figure size 360x288 with 1 Axes>"
      ]
     },
     "metadata": {
      "needs_background": "light"
     },
     "output_type": "display_data"
    }
   ],
   "source": [
    "elem = \"plaque area aortic sinus mm2\"\n",
    "ax = pg.qqplot(residuals_book[elem])\n",
    "plt.title(elem)"
   ]
  },
  {
   "cell_type": "markdown",
   "id": "bound-december",
   "metadata": {},
   "source": [
    "# Non parametric statistis for non-normal distributions\n",
    "Even if, in the vast majority of cases, non parametric tests give even lower p-values, we reassess all parameters that do not appear to be normally distributed with Mann-Whitney's U test."
   ]
  },
  {
   "cell_type": "code",
   "execution_count": 5,
   "id": "wrong-chase",
   "metadata": {},
   "outputs": [
    {
     "name": "stdout",
     "output_type": "stream",
     "text": [
      "MannWhitney's U test for: Macrophage %\n",
      "     U-val       tail     p-val       RBC      CLES\n",
      "MWU  106.0  two-sided  0.481664 -0.164835  0.582418\n",
      "\n",
      "MannWhitney's U test for: macrophage percent\n",
      "     U-val       tail     p-val       RBC      CLES\n",
      "MWU   93.0  two-sided  0.661972 -0.107143  0.553571\n",
      "\n",
      "MannWhitney's U test for: neutral lipids area %_\n",
      "     U-val       tail     p-val       RBC      CLES\n",
      "MWU   44.0  two-sided  0.185758  0.333333  0.333333\n",
      "\n",
      "MannWhitney's U test for: neutral lipids area mm2_\n",
      "     U-val       tail     p-val       RBC     CLES\n",
      "MWU   59.0  two-sided  0.689122  0.106061  0.44697\n",
      "\n",
      "MannWhitney's U test for: thoracic percentage ENFACE\n",
      "     U-val       tail     p-val       RBC      CLES\n",
      "MWU  113.0  two-sided  0.489578 -0.158974  0.579487\n",
      "\n"
     ]
    }
   ],
   "source": [
    "for param in failed:\n",
    "    group_a, group_b = df[\"GROUP\"].unique()\n",
    "    x = df[df[\"GROUP\"] == group_a][param]\n",
    "    y = df[df[\"GROUP\"] == group_b][param]\n",
    "    test = pg.mwu(x, y)\n",
    "    print(f\"MannWhitney's U test for: {param}\")\n",
    "    print(test)\n",
    "    print()"
   ]
  },
  {
   "cell_type": "markdown",
   "id": "ranking-vienna",
   "metadata": {},
   "source": [
    "All these parameters did not reach statistical significance with Student's T test, and likewise they do not reach statistical significance with Mann Whitney's U test."
   ]
  },
  {
   "cell_type": "code",
   "execution_count": null,
   "id": "proud-suite",
   "metadata": {},
   "outputs": [],
   "source": []
  }
 ],
 "metadata": {
  "kernelspec": {
   "display_name": "Python 3",
   "language": "python",
   "name": "python3"
  },
  "language_info": {
   "codemirror_mode": {
    "name": "ipython",
    "version": 3
   },
   "file_extension": ".py",
   "mimetype": "text/x-python",
   "name": "python",
   "nbconvert_exporter": "python",
   "pygments_lexer": "ipython3",
   "version": "3.8.6"
  }
 },
 "nbformat": 4,
 "nbformat_minor": 5
}
