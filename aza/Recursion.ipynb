{
 "cells": [
  {
   "cell_type": "markdown",
   "id": "parallel-cattle",
   "metadata": {},
   "source": [
    "Un piccolo confronto tra funzioni ricursive e non"
   ]
  },
  {
   "cell_type": "code",
   "execution_count": 2,
   "id": "opposite-gazette",
   "metadata": {},
   "outputs": [],
   "source": [
    "from timeit import timeit # questo serve per i benchmark: non preoccupartene"
   ]
  },
  {
   "cell_type": "markdown",
   "id": "final-beverage",
   "metadata": {},
   "source": [
    "Definiamo due funzioni che generano il n-esimo numero della sequenza di Fibonacci"
   ]
  },
  {
   "cell_type": "code",
   "execution_count": 5,
   "id": "frequent-package",
   "metadata": {},
   "outputs": [],
   "source": [
    "# funzione \"classica\"\n",
    "def fib_recursive(n):\n",
    "    if n < 2:\n",
    "        return n\n",
    "    \n",
    "    return fib_recursive(n-2) + fib_recursive(n-1)\n",
    "\n",
    "# funzione non ricorsiva\n",
    "def fib_nonrecursive(n):\n",
    "    if n < 2:\n",
    "        return n\n",
    "\n",
    "    j, k = 0, 1\n",
    "    for _ in range(n):\n",
    "        j, k = k, j+k\n",
    "    return j"
   ]
  },
  {
   "cell_type": "markdown",
   "id": "medieval-continuity",
   "metadata": {},
   "source": [
    "Testiamo che funzionino"
   ]
  },
  {
   "cell_type": "code",
   "execution_count": 6,
   "id": "apart-alert",
   "metadata": {},
   "outputs": [
    {
     "data": {
      "text/plain": [
       "6765"
      ]
     },
     "execution_count": 6,
     "metadata": {},
     "output_type": "execute_result"
    }
   ],
   "source": [
    "fib_recursive(20)"
   ]
  },
  {
   "cell_type": "code",
   "execution_count": 7,
   "id": "documentary-intranet",
   "metadata": {},
   "outputs": [
    {
     "data": {
      "text/plain": [
       "6765"
      ]
     },
     "execution_count": 7,
     "metadata": {},
     "output_type": "execute_result"
    }
   ],
   "source": [
    "fib_nonrecursive(20)"
   ]
  },
  {
   "attachments": {
    "Screenshot%202021-05-05%20at%2009.30.47.png": {
     "image/png": "[encoded data removed]"
    }
   },
   "cell_type": "markdown",
   "id": "french-participant",
   "metadata": {},
   "source": [
    "Da Wikipedia (https://en.wikipedia.org/wiki/Fibonacci_number):\n",
    "![Screenshot%202021-05-05%20at%2009.30.47.png](attachment:Screenshot%202021-05-05%20at%2009.30.47.png)"
   ]
  },
  {
   "cell_type": "markdown",
   "id": "blocked-illustration",
   "metadata": {},
   "source": [
    "Direi che ci siamo. Facciamo calcolare alle funzioni questa cifra (il ventesimo numero) mille volte, e vediamo il tempo di esecuzione"
   ]
  },
  {
   "cell_type": "code",
   "execution_count": 8,
   "id": "monthly-joyce",
   "metadata": {},
   "outputs": [
    {
     "data": {
      "text/plain": [
       "3.524745252999992"
      ]
     },
     "execution_count": 8,
     "metadata": {},
     "output_type": "execute_result"
    }
   ],
   "source": [
    "timeit(\"fib_recursive(20)\", number=1000, globals=globals())"
   ]
  },
  {
   "cell_type": "code",
   "execution_count": 9,
   "id": "complete-entrepreneur",
   "metadata": {},
   "outputs": [
    {
     "data": {
      "text/plain": [
       "0.001804684000035195"
      ]
     },
     "execution_count": 9,
     "metadata": {},
     "output_type": "execute_result"
    }
   ],
   "source": [
    "timeit(\"fib_nonrecursive(20)\", number=1000, globals=globals())"
   ]
  },
  {
   "cell_type": "markdown",
   "id": "light-application",
   "metadata": {},
   "source": [
    "Le cose peggiorano sensibilmente all'aumentare del numero che si vuole calcolare:"
   ]
  },
  {
   "cell_type": "code",
   "execution_count": 10,
   "id": "hearing-legend",
   "metadata": {},
   "outputs": [
    {
     "data": {
      "text/plain": [
       "38.32385227499998"
      ]
     },
     "execution_count": 10,
     "metadata": {},
     "output_type": "execute_result"
    }
   ],
   "source": [
    "timeit(\"fib_recursive(25)\", number=1000, globals=globals())"
   ]
  },
  {
   "cell_type": "code",
   "execution_count": 11,
   "id": "tested-curve",
   "metadata": {},
   "outputs": [
    {
     "data": {
      "text/plain": [
       "0.002158307000001969"
      ]
     },
     "execution_count": 11,
     "metadata": {},
     "output_type": "execute_result"
    }
   ],
   "source": [
    "timeit(\"fib_nonrecursive(25)\", number=1000, globals=globals())"
   ]
  },
  {
   "cell_type": "markdown",
   "id": "afraid-specialist",
   "metadata": {},
   "source": [
    "Il risultato è in secondi.\n",
    "\n",
    "Per non parlare del fatto che, mentre esiste un limite hardware-dipendente al massimo calcolabile dalla funzione non ricorsiva, quella ricorsiva si schianterà molto prima contro il massimo delle volte che si può fare ricorso allo stack di Python, risutando (in tempi di esecuzione comunque biblici) in uno stupendo ```RecursionError```.\n",
    "\n",
    "Dato che i tempi di esecuzione di ```fib_recursive()``` sono biblici, scrivo una funzioncina più easy per dimostrare la cosa:"
   ]
  },
  {
   "cell_type": "code",
   "execution_count": 13,
   "id": "assured-example",
   "metadata": {},
   "outputs": [],
   "source": [
    "def rec(n):\n",
    "    if n < 1:\n",
    "        return n\n",
    "    \n",
    "    return n + rec(n-1)"
   ]
  },
  {
   "cell_type": "code",
   "execution_count": 14,
   "id": "foster-organization",
   "metadata": {},
   "outputs": [
    {
     "data": {
      "text/plain": [
       "55"
      ]
     },
     "execution_count": 14,
     "metadata": {},
     "output_type": "execute_result"
    }
   ],
   "source": [
    "rec(10)"
   ]
  },
  {
   "cell_type": "code",
   "execution_count": 15,
   "id": "certain-panic",
   "metadata": {},
   "outputs": [
    {
     "data": {
      "text/plain": [
       "5050"
      ]
     },
     "execution_count": 15,
     "metadata": {},
     "output_type": "execute_result"
    }
   ],
   "source": [
    "rec(100)"
   ]
  },
  {
   "cell_type": "code",
   "execution_count": 23,
   "id": "senior-crazy",
   "metadata": {},
   "outputs": [
    {
     "data": {
      "text/plain": [
       "500500"
      ]
     },
     "execution_count": 23,
     "metadata": {},
     "output_type": "execute_result"
    }
   ],
   "source": [
    "rec(1000) # questo dovrebbe già schiantarsi! Poteri del mac"
   ]
  },
  {
   "cell_type": "code",
   "execution_count": 29,
   "id": "incredible-bride",
   "metadata": {},
   "outputs": [
    {
     "ename": "RecursionError",
     "evalue": "maximum recursion depth exceeded in comparison",
     "output_type": "error",
     "traceback": [
      "\u001b[0;31m---------------------------------------------------------------------------\u001b[0m",
      "\u001b[0;31mRecursionError\u001b[0m                            Traceback (most recent call last)",
      "\u001b[0;32m<ipython-input-29-1b531e0aa6ae>\u001b[0m in \u001b[0;36m<module>\u001b[0;34m\u001b[0m\n\u001b[0;32m----> 1\u001b[0;31m \u001b[0mrec\u001b[0m\u001b[0;34m(\u001b[0m\u001b[0;36m3000\u001b[0m\u001b[0;34m)\u001b[0m\u001b[0;34m\u001b[0m\u001b[0;34m\u001b[0m\u001b[0m\n\u001b[0m",
      "\u001b[0;32m<ipython-input-13-373304c10fd6>\u001b[0m in \u001b[0;36mrec\u001b[0;34m(n)\u001b[0m\n\u001b[1;32m      3\u001b[0m         \u001b[0;32mreturn\u001b[0m \u001b[0mn\u001b[0m\u001b[0;34m\u001b[0m\u001b[0;34m\u001b[0m\u001b[0m\n\u001b[1;32m      4\u001b[0m \u001b[0;34m\u001b[0m\u001b[0m\n\u001b[0;32m----> 5\u001b[0;31m     \u001b[0;32mreturn\u001b[0m \u001b[0mn\u001b[0m \u001b[0;34m+\u001b[0m \u001b[0mrec\u001b[0m\u001b[0;34m(\u001b[0m\u001b[0mn\u001b[0m\u001b[0;34m-\u001b[0m\u001b[0;36m1\u001b[0m\u001b[0;34m)\u001b[0m\u001b[0;34m\u001b[0m\u001b[0;34m\u001b[0m\u001b[0m\n\u001b[0m",
      "... last 1 frames repeated, from the frame below ...\n",
      "\u001b[0;32m<ipython-input-13-373304c10fd6>\u001b[0m in \u001b[0;36mrec\u001b[0;34m(n)\u001b[0m\n\u001b[1;32m      3\u001b[0m         \u001b[0;32mreturn\u001b[0m \u001b[0mn\u001b[0m\u001b[0;34m\u001b[0m\u001b[0;34m\u001b[0m\u001b[0m\n\u001b[1;32m      4\u001b[0m \u001b[0;34m\u001b[0m\u001b[0m\n\u001b[0;32m----> 5\u001b[0;31m     \u001b[0;32mreturn\u001b[0m \u001b[0mn\u001b[0m \u001b[0;34m+\u001b[0m \u001b[0mrec\u001b[0m\u001b[0;34m(\u001b[0m\u001b[0mn\u001b[0m\u001b[0;34m-\u001b[0m\u001b[0;36m1\u001b[0m\u001b[0;34m)\u001b[0m\u001b[0;34m\u001b[0m\u001b[0;34m\u001b[0m\u001b[0m\n\u001b[0m",
      "\u001b[0;31mRecursionError\u001b[0m: maximum recursion depth exceeded in comparison"
     ]
    }
   ],
   "source": [
    "rec(3000)"
   ]
  },
  {
   "cell_type": "code",
   "execution_count": null,
   "id": "caring-columbia",
   "metadata": {},
   "outputs": [],
   "source": []
  }
 ],
 "metadata": {
  "kernelspec": {
   "display_name": "Python 3",
   "language": "python",
   "name": "python3"
  },
  "language_info": {
   "codemirror_mode": {
    "name": "ipython",
    "version": 3
   },
   "file_extension": ".py",
   "mimetype": "text/x-python",
   "name": "python",
   "nbconvert_exporter": "python",
   "pygments_lexer": "ipython3",
   "version": "3.8.6"
  }
 },
 "nbformat": 4,
 "nbformat_minor": 5
}
