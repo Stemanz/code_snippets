{
 "cells": [
  {
   "cell_type": "markdown",
   "metadata": {},
   "source": [
    "Ciao Aza, ti scrivo qui qualche hint sulla mia \"implementazione\" della soluzione. Poco, anzi pochissimo codice, e spero solo qualche buon consiglio.\n",
    "\n",
    "Come ti accennavo, la mia idea è partire dall'ordine di arrivo per poi verificare che soddisfi le richieste della rivista."
   ]
  },
  {
   "cell_type": "code",
   "execution_count": 2,
   "metadata": {},
   "outputs": [],
   "source": [
    "from itertools import permutations\n",
    "\n",
    "cavalli = [\"Ciuccio\", \"Babbo\", \"Ansimante\", \"Bruttone\"]\n",
    "arrivi = permutations(cavalli)"
   ]
  },
  {
   "cell_type": "markdown",
   "metadata": {},
   "source": [
    "dentro ```arrivi``` c'è una tuple con dentro tutti i possibili ordini di arrivo. Iniziamo pescandone uno soltanto:"
   ]
  },
  {
   "cell_type": "code",
   "execution_count": 3,
   "metadata": {},
   "outputs": [],
   "source": [
    "arrivo = next(arrivi)"
   ]
  },
  {
   "cell_type": "code",
   "execution_count": 4,
   "metadata": {},
   "outputs": [
    {
     "name": "stdout",
     "output_type": "stream",
     "text": [
      "('Ciuccio', 'Babbo', 'Ansimante', 'Bruttone')\n"
     ]
    }
   ],
   "source": [
    "print(arrivo)"
   ]
  },
  {
   "cell_type": "markdown",
   "metadata": {},
   "source": [
    "Eccoci qua. La comodità di questa roba è a ogni nome è associato un index: molto ovviamente è il seguente:"
   ]
  },
  {
   "cell_type": "code",
   "execution_count": 5,
   "metadata": {},
   "outputs": [
    {
     "name": "stdout",
     "output_type": "stream",
     "text": [
      "Posizione: 0, cavallo: Ciuccio\n",
      "Posizione: 1, cavallo: Babbo\n",
      "Posizione: 2, cavallo: Ansimante\n",
      "Posizione: 3, cavallo: Bruttone\n"
     ]
    }
   ],
   "source": [
    "for i, cavallo in enumerate(arrivo):\n",
    "    print(f\"Posizione: {i}, cavallo: {cavallo}\")"
   ]
  },
  {
   "cell_type": "markdown",
   "metadata": {},
   "source": [
    "Ricorda che iniziare a contare da 1 fa piangere anche le cipolle. A questo punto non ho sottomano ora il quesito, ma ammettiamo che una condizione fosse che Ansimante dovesse arrivare prima di Bruttone e che Babbo fosse terzo. Molto facile:"
   ]
  },
  {
   "cell_type": "code",
   "execution_count": 8,
   "metadata": {},
   "outputs": [
    {
     "data": {
      "text/plain": [
       "False"
      ]
     },
     "execution_count": 8,
     "metadata": {},
     "output_type": "execute_result"
    }
   ],
   "source": [
    "arrivo.index(\"Ansimante\") > arrivo.index(\"Bruttone\") and arrivo.index(\"Babbo\") == 3"
   ]
  },
  {
   "cell_type": "markdown",
   "metadata": {},
   "source": [
    "Evidentemente questo non soddisfa la nostra condizione (come puoi vedere dall'ordine di arrivo). Ultimo hint: assegnare ogni test a una variabile, ad es:"
   ]
  },
  {
   "cell_type": "code",
   "execution_count": 9,
   "metadata": {},
   "outputs": [],
   "source": [
    "condizione_1 = arrivo.index(\"Ansimante\") > arrivo.index(\"Bruttone\") and arrivo.index(\"Babbo\") == 3"
   ]
  },
  {
   "cell_type": "code",
   "execution_count": 10,
   "metadata": {},
   "outputs": [
    {
     "name": "stdout",
     "output_type": "stream",
     "text": [
      "False\n"
     ]
    }
   ],
   "source": [
    "print(condizione_1)"
   ]
  },
  {
   "cell_type": "markdown",
   "metadata": {},
   "source": [
    "A questo punto svolgerai tutti i test, e l'ultimo piccolo semplice scoglio da superare (senza menzionare ora le altre sottigliezze delle richiesta ;> ) è come testare in modo snello che tutte tranne una siano false. Ti svelo un segreto che magari non sai:"
   ]
  },
  {
   "cell_type": "code",
   "execution_count": 11,
   "metadata": {},
   "outputs": [
    {
     "name": "stdout",
     "output_type": "stream",
     "text": [
      "3\n"
     ]
    }
   ],
   "source": [
    "lista_di_bool = [True, True, False, False, True, False]\n",
    "print(sum(lista_di_bool))"
   ]
  },
  {
   "cell_type": "markdown",
   "metadata": {},
   "source": [
    "Esatto! ```True``` vale 1, e ```False``` vale 0! Provare per credere"
   ]
  },
  {
   "cell_type": "code",
   "execution_count": 12,
   "metadata": {},
   "outputs": [
    {
     "data": {
      "text/plain": [
       "2"
      ]
     },
     "execution_count": 12,
     "metadata": {},
     "output_type": "execute_result"
    }
   ],
   "source": [
    "True + False + True"
   ]
  },
  {
   "cell_type": "code",
   "execution_count": null,
   "metadata": {},
   "outputs": [],
   "source": []
  }
 ],
 "metadata": {
  "kernelspec": {
   "display_name": "Python 3",
   "language": "python",
   "name": "python3"
  },
  "language_info": {
   "codemirror_mode": {
    "name": "ipython",
    "version": 3
   },
   "file_extension": ".py",
   "mimetype": "text/x-python",
   "name": "python",
   "nbconvert_exporter": "python",
   "pygments_lexer": "ipython3",
   "version": "3.7.3"
  }
 },
 "nbformat": 4,
 "nbformat_minor": 2
}
