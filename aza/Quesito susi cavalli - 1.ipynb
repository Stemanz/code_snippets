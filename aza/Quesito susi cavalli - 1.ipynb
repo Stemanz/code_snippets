{
 "cells": [
  {
   "cell_type": "markdown",
   "id": "entertaining-advantage",
   "metadata": {},
   "source": [
    "Ciao Aza,\n",
    "\n",
    "ti butto giù due righe su come io affronterei il quesito della Susi che ti ho mandato.\n",
    "\n",
    "Non starei a farla troppo complicata, userei Python per arrivare alla soluzione \"brute-force\", facendo semplicemente tutte le prove finchè non azzecco la soluzione.\n",
    "\n",
    "Strutturerei il problema partendo dal fondo: produco un ordine di arrivo, e poi testo se questo ordine di arrivo rispetta le regole imposte dal gioco.\n",
    "\n",
    "Questo esempio parte dall'ordine di arrivo."
   ]
  },
  {
   "cell_type": "code",
   "execution_count": 1,
   "id": "exposed-preference",
   "metadata": {},
   "outputs": [],
   "source": [
    "cavalli = [\"Ciuccio\", \"Puzza\", \"Brutto\", \"Lercio\"] # non ricordo i nomi dei cavalli"
   ]
  },
  {
   "cell_type": "markdown",
   "id": "buried-estate",
   "metadata": {},
   "source": [
    "# Metodo 1: col cervello\n",
    "\n",
    "Non ci sono infiniti ordini di arrivo: a una certa, le combinazioni finiscono.\n",
    "\n",
    "Esiste un modo pythonico per trovarle tutte a sforzo 0:"
   ]
  },
  {
   "cell_type": "code",
   "execution_count": 2,
   "id": "cathedral-underground",
   "metadata": {},
   "outputs": [
    {
     "name": "stdout",
     "output_type": "stream",
     "text": [
      "('Ciuccio', 'Puzza', 'Brutto', 'Lercio')\n",
      "('Ciuccio', 'Puzza', 'Lercio', 'Brutto')\n",
      "('Ciuccio', 'Brutto', 'Puzza', 'Lercio')\n",
      "('Ciuccio', 'Brutto', 'Lercio', 'Puzza')\n",
      "('Ciuccio', 'Lercio', 'Puzza', 'Brutto')\n",
      "('Ciuccio', 'Lercio', 'Brutto', 'Puzza')\n",
      "('Puzza', 'Ciuccio', 'Brutto', 'Lercio')\n",
      "('Puzza', 'Ciuccio', 'Lercio', 'Brutto')\n",
      "('Puzza', 'Brutto', 'Ciuccio', 'Lercio')\n",
      "('Puzza', 'Brutto', 'Lercio', 'Ciuccio')\n",
      "('Puzza', 'Lercio', 'Ciuccio', 'Brutto')\n",
      "('Puzza', 'Lercio', 'Brutto', 'Ciuccio')\n",
      "('Brutto', 'Ciuccio', 'Puzza', 'Lercio')\n",
      "('Brutto', 'Ciuccio', 'Lercio', 'Puzza')\n",
      "('Brutto', 'Puzza', 'Ciuccio', 'Lercio')\n",
      "('Brutto', 'Puzza', 'Lercio', 'Ciuccio')\n",
      "('Brutto', 'Lercio', 'Ciuccio', 'Puzza')\n",
      "('Brutto', 'Lercio', 'Puzza', 'Ciuccio')\n",
      "('Lercio', 'Ciuccio', 'Puzza', 'Brutto')\n",
      "('Lercio', 'Ciuccio', 'Brutto', 'Puzza')\n",
      "('Lercio', 'Puzza', 'Ciuccio', 'Brutto')\n",
      "('Lercio', 'Puzza', 'Brutto', 'Ciuccio')\n",
      "('Lercio', 'Brutto', 'Ciuccio', 'Puzza')\n",
      "('Lercio', 'Brutto', 'Puzza', 'Ciuccio')\n"
     ]
    }
   ],
   "source": [
    "from itertools import permutations\n",
    "\n",
    "arrivi = permutations(cavalli)\n",
    "\n",
    "for arrivo in arrivi:\n",
    "    print(arrivo)"
   ]
  },
  {
   "cell_type": "markdown",
   "id": "intense-registration",
   "metadata": {},
   "source": [
    "Questo ```arrivi``` è un nuovo oggetto speciale (ne riparliamo dopo Advanced Python..) che serve \"solo\" per iterarci sopra e sputare una nuova combinazione ad ogni iterazione. Una volta finite, smette di sputarne.\n",
    "\n",
    "Per evitare di consumare risorse, lo fa in modo \"lazy\": non computa tutte le possibilità tutte assieme. Questo porta con sè alcuni tipi di svantaggi, ad esempio non gli puoi chiedere quante combinazioni contenga:"
   ]
  },
  {
   "cell_type": "code",
   "execution_count": 3,
   "id": "circular-companion",
   "metadata": {},
   "outputs": [
    {
     "ename": "TypeError",
     "evalue": "object of type 'itertools.permutations' has no len()",
     "output_type": "error",
     "traceback": [
      "\u001b[0;31m---------------------------------------------------------------------------\u001b[0m",
      "\u001b[0;31mTypeError\u001b[0m                                 Traceback (most recent call last)",
      "\u001b[0;32m<ipython-input-3-955ef80fa1a0>\u001b[0m in \u001b[0;36m<module>\u001b[0;34m\u001b[0m\n\u001b[0;32m----> 1\u001b[0;31m \u001b[0mlen\u001b[0m\u001b[0;34m(\u001b[0m\u001b[0marrivi\u001b[0m\u001b[0;34m)\u001b[0m\u001b[0;34m\u001b[0m\u001b[0;34m\u001b[0m\u001b[0m\n\u001b[0m",
      "\u001b[0;31mTypeError\u001b[0m: object of type 'itertools.permutations' has no len()"
     ]
    }
   ],
   "source": [
    "len(arrivi)"
   ]
  },
  {
   "cell_type": "markdown",
   "id": "important-begin",
   "metadata": {},
   "source": [
    "Anche ```len```, nella sua immenza potenza, fallisce.\n",
    "\n",
    "Puoi costringerlo però a rivelare i suoi segreti (questa cosa diventa computazionalmente intensiva naturalmente al crescere di tutte le possibili permutazioni):"
   ]
  },
  {
   "cell_type": "code",
   "execution_count": 4,
   "id": "decimal-jones",
   "metadata": {},
   "outputs": [
    {
     "data": {
      "text/plain": [
       "0"
      ]
     },
     "execution_count": 4,
     "metadata": {},
     "output_type": "execute_result"
    }
   ],
   "source": [
    "len(list(arrivi))"
   ]
  },
  {
   "cell_type": "markdown",
   "id": "empty-research",
   "metadata": {},
   "source": [
    "Come ti dicevo, abbiamo \"svuotato\" ```arrivi``` prima, quando abbiamo pescato gli arrivi per stamparli.\n",
    "Quindi ci tocca ricostruire l'oggetto da capo:"
   ]
  },
  {
   "cell_type": "code",
   "execution_count": 5,
   "id": "hawaiian-siemens",
   "metadata": {},
   "outputs": [
    {
     "data": {
      "text/plain": [
       "24"
      ]
     },
     "execution_count": 5,
     "metadata": {},
     "output_type": "execute_result"
    }
   ],
   "source": [
    "arrivi = permutations(cavalli)\n",
    "len(list(arrivi))"
   ]
  },
  {
   "cell_type": "markdown",
   "id": "dressed-palmer",
   "metadata": {},
   "source": [
    "# Metodo 2: alla cazzo di cane"
   ]
  },
  {
   "cell_type": "code",
   "execution_count": 6,
   "id": "normal-strike",
   "metadata": {},
   "outputs": [],
   "source": [
    "# l'idea è: modifico in modo casuale l'ordine degli elementi della lista, fregandomene\n",
    "# della possibilità di ripetere i test\n",
    "from random import shuffle\n",
    "\n",
    "# shuffle dovresti conoscerlo, ma ne approfitto per ricordarti che, a differenza\n",
    "# di molte altre funzioni, MODIFICA il suo input in modo irreversibile: per\n",
    "# questo \"proteggo\" la lista originale.\n",
    "\n",
    "# potrei tranquillamente cavarmela mischiando la lista e basta, ma lo faccio apposta\n",
    "\n",
    "cavalli = [\"Breccia\", \"Fulmine\", \"Saetta\", \"Razzo\"]\n",
    "\n",
    "def gara(listlike):\n",
    "    shuffled = listlike.copy()\n",
    "    shuffle(shuffled)\n",
    "    return shuffled"
   ]
  },
  {
   "cell_type": "code",
   "execution_count": 7,
   "id": "dependent-activation",
   "metadata": {},
   "outputs": [
    {
     "data": {
      "text/plain": [
       "['Razzo', 'Fulmine', 'Breccia', 'Saetta']"
      ]
     },
     "execution_count": 7,
     "metadata": {},
     "output_type": "execute_result"
    }
   ],
   "source": [
    "gara(cavalli) # ritorna una lista con gli elementi mischiati, senza modificare l'originale"
   ]
  },
  {
   "cell_type": "markdown",
   "id": "increased-prevention",
   "metadata": {},
   "source": [
    "Il comportamento di ```shuffle()```, che è molto pericoloso (e te lo faccio apposta per fartene apprezzare i pericoli), NON si presta ad una roba del genere:"
   ]
  },
  {
   "cell_type": "code",
   "execution_count": 8,
   "id": "infrared-reset",
   "metadata": {},
   "outputs": [],
   "source": [
    "def gara_brutta(listlike):\n",
    "    return shuffle(listlike.copy())   "
   ]
  },
  {
   "cell_type": "markdown",
   "id": "floral-section",
   "metadata": {},
   "source": [
    "Provare per credere:"
   ]
  },
  {
   "cell_type": "code",
   "execution_count": 9,
   "id": "electoral-sector",
   "metadata": {},
   "outputs": [],
   "source": [
    "gara_brutta(cavalli)"
   ]
  },
  {
   "cell_type": "markdown",
   "id": "grand-flood",
   "metadata": {},
   "source": [
    "```gara_brutta()``` non ritorna, apparentemente, un cazzo di niente.\n",
    "In realtà, ```shuffle``` è una funzione che (mannaggia a lei) modifica il suo input, ma (per me) controintuitivamente non ritorna l'input modificato, si limita a fare qualcosa.\n",
    "\n",
    "Eppure, qualcosa ritorna, guarda qua:"
   ]
  },
  {
   "cell_type": "code",
   "execution_count": 10,
   "id": "beginning-automation",
   "metadata": {},
   "outputs": [
    {
     "data": {
      "text/plain": [
       "NoneType"
      ]
     },
     "execution_count": 10,
     "metadata": {},
     "output_type": "execute_result"
    }
   ],
   "source": [
    "cosa_ritorna = gara_brutta(cavalli)\n",
    "\n",
    "type(cosa_ritorna)"
   ]
  },
  {
   "cell_type": "markdown",
   "id": "exclusive-prime",
   "metadata": {},
   "source": [
    "Proprio così!! ```shuffle``` funziona e ritorna ```None```. Per quello ```gara_brutta``` ritorna giustamente quello che ritorna ```shuffle```!\n",
    "Tu hai fatto larghissimo uso di un'altra funzione che fa cose e poi ritorna ```None```: guarda un po' qua:"
   ]
  },
  {
   "cell_type": "code",
   "execution_count": 11,
   "id": "worse-courtesy",
   "metadata": {},
   "outputs": [
    {
     "name": "stdout",
     "output_type": "stream",
     "text": [
      "Ciao Lino!\n"
     ]
    }
   ],
   "source": [
    "print(\"Ciao Lino!\")"
   ]
  },
  {
   "cell_type": "markdown",
   "id": "random-sellers",
   "metadata": {},
   "source": [
    "Intrappoliamo quello che ritorna ```print```"
   ]
  },
  {
   "cell_type": "code",
   "execution_count": 12,
   "id": "outside-booth",
   "metadata": {},
   "outputs": [
    {
     "name": "stdout",
     "output_type": "stream",
     "text": [
      "Ciao Lino!\n"
     ]
    },
    {
     "data": {
      "text/plain": [
       "NoneType"
      ]
     },
     "execution_count": 12,
     "metadata": {},
     "output_type": "execute_result"
    }
   ],
   "source": [
    "surprise = print(\"Ciao Lino!\")\n",
    "\n",
    "type(surprise)"
   ]
  },
  {
   "cell_type": "markdown",
   "id": "coordinated-buffalo",
   "metadata": {},
   "source": [
    "Tutte le volte che ```print()``` funziona, ritorna ```None``` ;)\n",
    "\n",
    "Implicitamente, ogni funzione che non ha un ritorno specifico ritorna ```None```, guarda qua:"
   ]
  },
  {
   "cell_type": "code",
   "execution_count": 13,
   "id": "terminal-aluminum",
   "metadata": {},
   "outputs": [],
   "source": [
    "def nullafacente():\n",
    "    pass"
   ]
  },
  {
   "cell_type": "code",
   "execution_count": 14,
   "id": "democratic-grant",
   "metadata": {},
   "outputs": [
    {
     "data": {
      "text/plain": [
       "NoneType"
      ]
     },
     "execution_count": 14,
     "metadata": {},
     "output_type": "execute_result"
    }
   ],
   "source": [
    "puoi_immaginare = nullafacente()\n",
    "type(puoi_immaginare)"
   ]
  },
  {
   "cell_type": "code",
   "execution_count": null,
   "id": "structural-coral",
   "metadata": {},
   "outputs": [],
   "source": []
  }
 ],
 "metadata": {
  "kernelspec": {
   "display_name": "Python 3",
   "language": "python",
   "name": "python3"
  },
  "language_info": {
   "codemirror_mode": {
    "name": "ipython",
    "version": 3
   },
   "file_extension": ".py",
   "mimetype": "text/x-python",
   "name": "python",
   "nbconvert_exporter": "python",
   "pygments_lexer": "ipython3",
   "version": "3.8.6"
  }
 },
 "nbformat": 4,
 "nbformat_minor": 5
}
