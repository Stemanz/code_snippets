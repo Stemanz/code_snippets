{
 "cells": [
  {
   "cell_type": "code",
   "execution_count": 30,
   "id": "available-toronto",
   "metadata": {},
   "outputs": [],
   "source": [
    "# Aza's code\n",
    "#get_at_content - esercizio con le funzioni\n",
    "\n",
    "def contenutoAT(sequenza, decimali):\n",
    "    quanteA = sequenza.upper().count('A') # metto tutto in upper\n",
    "    quanteT = sequenza.upper().count('T')\n",
    "    lunghezza_dna = len(sequenza.rstrip()) #tolgo \\n\n",
    "    AT_content = (quanteA + quanteT) / lunghezza_dna *100 #risultato in percentuale\n",
    "    return round(AT_content, decimali)"
   ]
  },
  {
   "cell_type": "code",
   "execution_count": 31,
   "id": "metallic-nirvana",
   "metadata": {},
   "outputs": [
    {
     "data": {
      "text/plain": [
       "65.9"
      ]
     },
     "execution_count": 31,
     "metadata": {},
     "output_type": "execute_result"
    }
   ],
   "source": [
    "seq = \"ATttattatcatactatcATCTGCACTGACTACTACGTACG\"\n",
    "contenutoAT(seq, 1)"
   ]
  },
  {
   "cell_type": "markdown",
   "id": "secondary-planner",
   "metadata": {},
   "source": [
    "Ciao Lino!\n",
    "Tutto funziona come deve. Volevo prendere spunto da questa funzione per farti conoscere un pezzettino della standard library, nella fattispecie il modulo ```collections``` che contiene alcune cose interessanti.\n",
    "Guarda qua:"
   ]
  },
  {
   "cell_type": "code",
   "execution_count": 32,
   "id": "breeding-friend",
   "metadata": {},
   "outputs": [],
   "source": [
    "from collections import Counter\n",
    "\n",
    "c = Counter(seq.upper())"
   ]
  },
  {
   "cell_type": "code",
   "execution_count": 33,
   "id": "running-danish",
   "metadata": {},
   "outputs": [
    {
     "data": {
      "text/plain": [
       "Counter({'A': 12, 'T': 15, 'C': 10, 'G': 4})"
      ]
     },
     "execution_count": 33,
     "metadata": {},
     "output_type": "execute_result"
    }
   ],
   "source": [
    "c"
   ]
  },
  {
   "cell_type": "markdown",
   "id": "certain-garage",
   "metadata": {},
   "source": [
    "Non è fantastico? Questo è un modo pythonico per contare gli elementi in una sola linea di codice!"
   ]
  },
  {
   "cell_type": "code",
   "execution_count": 34,
   "id": "tropical-benchmark",
   "metadata": {},
   "outputs": [
    {
     "data": {
      "text/plain": [
       "dict_keys(['A', 'T', 'C', 'G'])"
      ]
     },
     "execution_count": 34,
     "metadata": {},
     "output_type": "execute_result"
    }
   ],
   "source": [
    "c.keys() # se non sai a priori che elementi ci trovi dentro"
   ]
  },
  {
   "cell_type": "markdown",
   "id": "extra-commons",
   "metadata": {},
   "source": [
    "A questo punto puoi riscrivere più pythonicamente la tua funzione:"
   ]
  },
  {
   "cell_type": "code",
   "execution_count": 58,
   "id": "wanted-messenger",
   "metadata": {},
   "outputs": [],
   "source": [
    "from collections import Counter\n",
    "\n",
    "def ATcontent(sequenza, decimali=2):\n",
    "    sequenza = sequenza.upper().rstrip()\n",
    "    \n",
    "    c = Counter(sequenza)\n",
    "    perc = (c[\"A\"] + c[\"T\"]) / len(sequenza)\n",
    "    \n",
    "    return round(perc * 100, decimali)"
   ]
  },
  {
   "cell_type": "code",
   "execution_count": 59,
   "id": "educated-expense",
   "metadata": {},
   "outputs": [
    {
     "data": {
      "text/plain": [
       "65.85"
      ]
     },
     "execution_count": 59,
     "metadata": {},
     "output_type": "execute_result"
    }
   ],
   "source": [
    "ATcontent(seq)"
   ]
  },
  {
   "cell_type": "markdown",
   "id": "distributed-hearing",
   "metadata": {},
   "source": [
    "Giusto per, ho anche dato un default per ```decimali```, anche se è inutile per l'uso interattivo che hai fatto della tua funzione"
   ]
  },
  {
   "cell_type": "code",
   "execution_count": null,
   "id": "abroad-juvenile",
   "metadata": {},
   "outputs": [],
   "source": []
  }
 ],
 "metadata": {
  "kernelspec": {
   "display_name": "Python 3",
   "language": "python",
   "name": "python3"
  },
  "language_info": {
   "codemirror_mode": {
    "name": "ipython",
    "version": 3
   },
   "file_extension": ".py",
   "mimetype": "text/x-python",
   "name": "python",
   "nbconvert_exporter": "python",
   "pygments_lexer": "ipython3",
   "version": "3.8.6"
  }
 },
 "nbformat": 4,
 "nbformat_minor": 5
}
